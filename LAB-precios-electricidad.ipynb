{
 "cells": [
  {
   "cell_type": "markdown",
   "metadata": {},
   "source": [
    "Evolución de los Precios de la Electricidad\n",
    "==="
   ]
  },
  {
   "cell_type": "markdown",
   "metadata": {},
   "source": [
    "# Instrucciones"
   ]
  },
  {
   "cell_type": "markdown",
   "metadata": {},
   "source": [
    "En el archivo `precios.zip`  se encuentran los archivos `Precio_Bolsa_Nacional_($kwh)_ano.xls` en formato de Microsoft Excel, los cuales contienen los precios históricos horarios de la electricidad para el mercado eléctrico Colombiano entre los años 1995 y 2017 en COL-PESOS/kWh. A partir de la información suministrada realice las siguientes actividades. "
   ]
  },
  {
   "cell_type": "markdown",
   "metadata": {},
   "source": [
    "**1.--** Lea los archivos y cree una tabla única concatenando la información para cada uno de los años. Debe transformar la tabla de tal forma que quede con las columnas `Fecha`, `Hora` y `Precio` (únicamente tres columnas)."
   ]
  },
  {
   "cell_type": "code",
   "execution_count": 1,
   "metadata": {},
   "outputs": [],
   "source": [
    "import pandas as pd\n",
    "import numpy as np\n",
    "import glob\n",
    "import datetime as dt\n",
    "import matplotlib.pyplot as plt\n",
    "import matplotlib as mpl\n",
    "%matplotlib inline"
   ]
  },
  {
   "cell_type": "code",
   "execution_count": 2,
   "metadata": {},
   "outputs": [],
   "source": [
    "def ReadFile(filename):\n",
    "    for ix in range(len(filename)):\n",
    "        dft = pd.read_excel(filename,skiprows = ix ,usecols = list(range(25)))\n",
    "        if dft.iloc[0,0] == 'Fecha':\n",
    "            dft = pd.read_excel(filename,skiprows = ix+1, usecols = list(range(25)))\n",
    "            break\n",
    "    return dft"
   ]
  },
  {
   "cell_type": "code",
   "execution_count": 30,
   "metadata": {},
   "outputs": [
    {
     "data": {
      "text/html": [
       "<div>\n",
       "<style scoped>\n",
       "    .dataframe tbody tr th:only-of-type {\n",
       "        vertical-align: middle;\n",
       "    }\n",
       "\n",
       "    .dataframe tbody tr th {\n",
       "        vertical-align: top;\n",
       "    }\n",
       "\n",
       "    .dataframe thead th {\n",
       "        text-align: right;\n",
       "    }\n",
       "</style>\n",
       "<table border=\"1\" class=\"dataframe\">\n",
       "  <thead>\n",
       "    <tr style=\"text-align: right;\">\n",
       "      <th></th>\n",
       "      <th>Fecha</th>\n",
       "      <th>Hora</th>\n",
       "      <th>Precio</th>\n",
       "    </tr>\n",
       "  </thead>\n",
       "  <tbody>\n",
       "    <tr>\n",
       "      <th>0</th>\n",
       "      <td>2018-01-01</td>\n",
       "      <td>0</td>\n",
       "      <td>123.167294</td>\n",
       "    </tr>\n",
       "    <tr>\n",
       "      <th>1</th>\n",
       "      <td>2018-01-02</td>\n",
       "      <td>0</td>\n",
       "      <td>104.201894</td>\n",
       "    </tr>\n",
       "    <tr>\n",
       "      <th>2</th>\n",
       "      <td>2018-01-03</td>\n",
       "      <td>0</td>\n",
       "      <td>104.139873</td>\n",
       "    </tr>\n",
       "    <tr>\n",
       "      <th>3</th>\n",
       "      <td>2018-01-04</td>\n",
       "      <td>0</td>\n",
       "      <td>132.136385</td>\n",
       "    </tr>\n",
       "    <tr>\n",
       "      <th>4</th>\n",
       "      <td>2018-01-05</td>\n",
       "      <td>0</td>\n",
       "      <td>128.855667</td>\n",
       "    </tr>\n",
       "    <tr>\n",
       "      <th>...</th>\n",
       "      <td>...</td>\n",
       "      <td>...</td>\n",
       "      <td>...</td>\n",
       "    </tr>\n",
       "    <tr>\n",
       "      <th>201811</th>\n",
       "      <td>1996-01-02</td>\n",
       "      <td>23</td>\n",
       "      <td>12.000000</td>\n",
       "    </tr>\n",
       "    <tr>\n",
       "      <th>201812</th>\n",
       "      <td>1996-01-03</td>\n",
       "      <td>23</td>\n",
       "      <td>10.999000</td>\n",
       "    </tr>\n",
       "    <tr>\n",
       "      <th>201813</th>\n",
       "      <td>1996-01-04</td>\n",
       "      <td>23</td>\n",
       "      <td>13.000000</td>\n",
       "    </tr>\n",
       "    <tr>\n",
       "      <th>201814</th>\n",
       "      <td>1996-01-05</td>\n",
       "      <td>23</td>\n",
       "      <td>18.000000</td>\n",
       "    </tr>\n",
       "    <tr>\n",
       "      <th>201815</th>\n",
       "      <td>1996-01-06</td>\n",
       "      <td>23</td>\n",
       "      <td>14.000000</td>\n",
       "    </tr>\n",
       "  </tbody>\n",
       "</table>\n",
       "<p>201816 rows × 3 columns</p>\n",
       "</div>"
      ],
      "text/plain": [
       "             Fecha Hora      Precio\n",
       "0       2018-01-01    0  123.167294\n",
       "1       2018-01-02    0  104.201894\n",
       "2       2018-01-03    0  104.139873\n",
       "3       2018-01-04    0  132.136385\n",
       "4       2018-01-05    0  128.855667\n",
       "...            ...  ...         ...\n",
       "201811  1996-01-02   23   12.000000\n",
       "201812  1996-01-03   23   10.999000\n",
       "201813  1996-01-04   23   13.000000\n",
       "201814  1996-01-05   23   18.000000\n",
       "201815  1996-01-06   23   14.000000\n",
       "\n",
       "[201816 rows x 3 columns]"
      ]
     },
     "execution_count": 30,
     "metadata": {},
     "output_type": "execute_result"
    }
   ],
   "source": [
    "df = []\n",
    "for f in glob.glob(\"*.xls\"):\n",
    "    df.append(ReadFile(f))\n",
    "for f in glob.glob(\"*.xlsx\"):\n",
    "    df.append(ReadFile(f))\n",
    "df = pd.concat(df)\n",
    "df = pd.melt(df,id_vars = 'Fecha')\n",
    "df.columns = ['Fecha','Hora','Precio']\n",
    "df.head(10)\n",
    "df"
   ]
  },
  {
   "cell_type": "markdown",
   "metadata": {},
   "source": [
    "**2.--** Compute e imprima el número de registros con datos faltantes."
   ]
  },
  {
   "cell_type": "code",
   "execution_count": 32,
   "metadata": {},
   "outputs": [
    {
     "data": {
      "text/plain": [
       "Fecha     216\n",
       "Hora        0\n",
       "Precio    238\n",
       "dtype: int64"
      ]
     },
     "execution_count": 32,
     "metadata": {},
     "output_type": "execute_result"
    }
   ],
   "source": [
    "df.isnull().sum()"
   ]
  },
  {
   "cell_type": "markdown",
   "metadata": {},
   "source": [
    "**3.--** Compute e imprima el número de registros duplicados."
   ]
  },
  {
   "cell_type": "code",
   "execution_count": 33,
   "metadata": {},
   "outputs": [
    {
     "data": {
      "text/plain": [
       "1951"
      ]
     },
     "execution_count": 33,
     "metadata": {},
     "output_type": "execute_result"
    }
   ],
   "source": [
    "df.duplicated().sum()"
   ]
  },
  {
   "cell_type": "markdown",
   "metadata": {},
   "source": [
    "**4.--** Elimine los registros con datos duplicados o datos faltantes, e imprima la cantidad de registros que quedan (registros completos)."
   ]
  },
  {
   "cell_type": "code",
   "execution_count": 43,
   "metadata": {},
   "outputs": [
    {
     "name": "stdout",
     "output_type": "stream",
     "text": [
      "199819\n"
     ]
    }
   ],
   "source": [
    "df = df.drop_duplicates()\n",
    "df = df.dropna()\n",
    "print(len(df))"
   ]
  },
  {
   "cell_type": "markdown",
   "metadata": {},
   "source": [
    "**5.--** Compute y grafique el precio primedio diario."
   ]
  },
  {
   "cell_type": "code",
   "execution_count": 66,
   "metadata": {},
   "outputs": [
    {
     "data": {
      "text/plain": [
       "Text(0.5, 0, 'Días')"
      ]
     },
     "execution_count": 66,
     "metadata": {},
     "output_type": "execute_result"
    },
    {
     "data": {
      "image/png": "[encoded data removed]",
      "text/plain": [
       "<Figure size 432x288 with 1 Axes>"
      ]
     },
     "metadata": {
      "needs_background": "light"
     },
     "output_type": "display_data"
    }
   ],
   "source": [
    "dia = df.groupby(pd.DatetimeIndex(df['Fecha']).day)['Precio'].mean()\n",
    "dia.plot(kind=\"bar\", color='green')\n",
    "plt.title('Precio Promedio Diario')\n",
    "plt.xlabel('Días')"
   ]
  },
  {
   "cell_type": "markdown",
   "metadata": {},
   "source": [
    "**6.--** Compute y grafique el precio máximo por mes."
   ]
  },
  {
   "cell_type": "code",
   "execution_count": 67,
   "metadata": {},
   "outputs": [
    {
     "data": {
      "text/plain": [
       "Text(0.5, 0, 'Meses')"
      ]
     },
     "execution_count": 67,
     "metadata": {},
     "output_type": "execute_result"
    },
    {
     "data": {
      "image/png": "[encoded data removed]",
      "text/plain": [
       "<Figure size 432x288 with 1 Axes>"
      ]
     },
     "metadata": {
      "needs_background": "light"
     },
     "output_type": "display_data"
    }
   ],
   "source": [
    "mes = df.groupby(pd.DatetimeIndex(df['Fecha']).month)['Precio'].max()\n",
    "mes.plot(kind=\"bar\")\n",
    "plt.title('Precio Máximo')\n",
    "plt.xlabel('Meses')"
   ]
  },
  {
   "cell_type": "markdown",
   "metadata": {},
   "source": [
    "**7.--** Compute y grafique el precio mínimo mensual."
   ]
  },
  {
   "cell_type": "code",
   "execution_count": 68,
   "metadata": {},
   "outputs": [
    {
     "data": {
      "text/plain": [
       "Text(0.5, 0, 'Meses')"
      ]
     },
     "execution_count": 68,
     "metadata": {},
     "output_type": "execute_result"
    },
    {
     "data": {
      "image/png": "[encoded data removed]",
      "text/plain": [
       "<Figure size 432x288 with 1 Axes>"
      ]
     },
     "metadata": {
      "needs_background": "light"
     },
     "output_type": "display_data"
    }
   ],
   "source": [
    "mes = df.groupby(pd.DatetimeIndex(df['Fecha']).month)['Precio'].min()\n",
    "mes.plot(kind=\"bar\",color='yellow')\n",
    "plt.title('Precio Mínimo')\n",
    "plt.xlabel('Meses')"
   ]
  },
  {
   "cell_type": "markdown",
   "metadata": {},
   "source": [
    "**8.--** Haga un gráfico para comparar el precio máximo del mes (para cada mes) y el precio promedio mensual."
   ]
  },
  {
   "cell_type": "code",
   "execution_count": 72,
   "metadata": {},
   "outputs": [
    {
     "data": {
      "text/plain": [
       "<matplotlib.axes._subplots.AxesSubplot at 0x7f668907fd68>"
      ]
     },
     "execution_count": 72,
     "metadata": {},
     "output_type": "execute_result"
    },
    {
     "data": {
      "image/png": "[encoded data removed]",
      "text/plain": [
       "<Figure size 432x288 with 2 Axes>"
      ]
     },
     "metadata": {
      "needs_background": "light"
     },
     "output_type": "display_data"
    }
   ],
   "source": [
    "mesunit = df.groupby(pd.DatetimeIndex(df['Fecha']).month)['Precio'].max()\n",
    "mestota = df.groupby(pd.DatetimeIndex(df['Fecha']).month)['Precio'].mean()\n",
    "imagen, eje = plt.subplots(nrows=1, ncols=2)\n",
    "mesunit.plot(kind=\"bar\", ax=eje[0])\n",
    "mestota.plot(kind=\"bar\", ax=eje[1])\n"
   ]
  },
  {
   "cell_type": "markdown",
   "metadata": {},
   "source": [
    "**9.--** Haga un histograma que muestre a que horas se produce el máximo precio diario para los días laborales."
   ]
  },
  {
   "cell_type": "code",
   "execution_count": 76,
   "metadata": {},
   "outputs": [
    {
     "data": {
      "text/plain": [
       "Text(0, 0.5, 'Ocurrencias')"
      ]
     },
     "execution_count": 76,
     "metadata": {},
     "output_type": "execute_result"
    },
    {
     "data": {
      "image/png": "[encoded data removed]",
      "text/plain": [
       "<Figure size 432x288 with 1 Axes>"
      ]
     },
     "metadata": {
      "needs_background": "light"
     },
     "output_type": "display_data"
    }
   ],
   "source": [
    "histoHoras = df.copy()\n",
    "histoHoras['SemDia'] = [i.weekday() for i in pd.to_datetime(df['Fecha'])]\n",
    "histoHoras = histoHoras[histoHoras['SemDia'] <= 4]\n",
    "histoHoras2 = histoHoras.groupby('Fecha')['Precio'].max()\n",
    "histoHoras2 = pd.DataFrame({'Fecha':histoHoras2.index, 'PrecioMax':histoHoras2.values})\n",
    "histoHoras['Fecha'] = pd.to_datetime(histoHoras['Fecha'])\n",
    "histoHoras2 = pd.merge(histoHoras, histoHoras2, on=['Fecha'], how='inner')\n",
    "histoHoras2 = histoHoras2[histoHoras2['Precio'] == histoHoras2['PrecioMax']]\n",
    "listHoras = list(map(int,histoHoras2['Hora'].tolist()))\n",
    "plt.hist(listHoras, bins=24, color='red')\n",
    "plt.xlabel('Horas')\n",
    "plt.ylabel('Valor hora')\n",
    "plt.title('Precio máximo por horas en días laborales')\n",
    "plt.xlabel('Horas')\n",
    "plt.ylabel('Ocurrencias')"
   ]
  },
  {
   "cell_type": "markdown",
   "metadata": {},
   "source": [
    "**10.--** Haga un histograma que muestre a que horas se produce el máximo precio diario para los días sabado."
   ]
  },
  {
   "cell_type": "code",
   "execution_count": 78,
   "metadata": {},
   "outputs": [
    {
     "data": {
      "text/plain": [
       "Text(0, 0.5, 'Ocurrencia')"
      ]
     },
     "execution_count": 78,
     "metadata": {},
     "output_type": "execute_result"
    },
    {
     "data": {
      "image/png": "[encoded data removed]",
      "text/plain": [
       "<Figure size 432x288 with 1 Axes>"
      ]
     },
     "metadata": {
      "needs_background": "light"
     },
     "output_type": "display_data"
    }
   ],
   "source": [
    "histoHoras = df.copy()\n",
    "histoHoras['SemDia'] = [i.weekday() for i in pd.to_datetime(df['Fecha'])]\n",
    "histoHoras = histoHoras[histoHoras['SemDia'] == 5]\n",
    "histoHoras2 = histoHoras.groupby('Fecha')['Precio'].max()\n",
    "histoHoras2 = pd.DataFrame({'Fecha':histoHoras2.index, 'PrecioMax':histoHoras2.values})\n",
    "histoHoras['Fecha'] = pd.to_datetime(histoHoras['Fecha'])\n",
    "histoHoras2 = pd.merge(histoHoras, histoHoras2, on=['Fecha'], how='inner')\n",
    "histoHoras2 = histoHoras2[histoHoras2['Precio'] == histoHoras2['PrecioMax']]\n",
    "listHoras = list(map(int,histoHoras2['Hora'].tolist()))\n",
    "plt.hist(listHoras, bins=24, color='pink')\n",
    "plt.xlabel('Horas')\n",
    "plt.ylabel('Valor hora')\n",
    "plt.title('Precio máximo por horas el día sábado')\n",
    "plt.xlabel('Horas')\n",
    "plt.ylabel('Ocurrencia')"
   ]
  },
  {
   "cell_type": "markdown",
   "metadata": {},
   "source": [
    "**11.--** Haga un histograma que muestre a que horas se produce el máximo precio diario para los días domingo."
   ]
  },
  {
   "cell_type": "code",
   "execution_count": 80,
   "metadata": {},
   "outputs": [
    {
     "data": {
      "text/plain": [
       "Text(0, 0.5, 'Valor hora')"
      ]
     },
     "execution_count": 80,
     "metadata": {},
     "output_type": "execute_result"
    },
    {
     "data": {
      "image/png": "[encoded data removed]",
      "text/plain": [
       "<Figure size 432x288 with 1 Axes>"
      ]
     },
     "metadata": {
      "needs_background": "light"
     },
     "output_type": "display_data"
    }
   ],
   "source": [
    "histoHoras = df.copy()\n",
    "histoHoras['SemDia'] = [i.weekday() for i in pd.to_datetime(df['Fecha'])]\n",
    "histoHoras = histoHoras[histoHoras['SemDia'] == 6]\n",
    "histoHoras2 = histoHoras.groupby('Fecha')['Precio'].max()\n",
    "histoHoras2 = pd.DataFrame({'Fecha':histoHoras2.index, 'PrecioMax':histoHoras2.values})\n",
    "histoHoras['Fecha'] = pd.to_datetime(histoHoras['Fecha'])\n",
    "histoHoras2 = pd.merge(histoHoras, histoHoras2, on=['Fecha'], how='inner')\n",
    "histoHoras2 = histoHoras2[histoHoras2['Precio'] == histoHoras2['PrecioMax']]\n",
    "listHoras = list(map(int,histoHoras2['Hora'].tolist()))\n",
    "plt.title('Precio maximo por horas el día domingo')\n",
    "plt.hist(listHoras, bins=24, color='black')\n",
    "plt.xlabel('Horas')\n",
    "plt.ylabel('Valor hora')"
   ]
  },
  {
   "cell_type": "markdown",
   "metadata": {},
   "source": [
    "**12.--** Imprima una tabla con la fecha y el valor más bajo por año del precio de bolsa."
   ]
  },
  {
   "cell_type": "code",
   "execution_count": 42,
   "metadata": {},
   "outputs": [
    {
     "data": {
      "text/html": [
       "<div>\n",
       "<style scoped>\n",
       "    .dataframe tbody tr th:only-of-type {\n",
       "        vertical-align: middle;\n",
       "    }\n",
       "\n",
       "    .dataframe tbody tr th {\n",
       "        vertical-align: top;\n",
       "    }\n",
       "\n",
       "    .dataframe thead th {\n",
       "        text-align: right;\n",
       "    }\n",
       "</style>\n",
       "<table border=\"1\" class=\"dataframe\">\n",
       "  <thead>\n",
       "    <tr style=\"text-align: right;\">\n",
       "      <th></th>\n",
       "      <th>Año</th>\n",
       "      <th>Fecha</th>\n",
       "      <th>Precio</th>\n",
       "    </tr>\n",
       "  </thead>\n",
       "  <tbody>\n",
       "    <tr>\n",
       "      <th>0</th>\n",
       "      <td>1995.0</td>\n",
       "      <td>1995-07-20</td>\n",
       "      <td>NaN</td>\n",
       "    </tr>\n",
       "    <tr>\n",
       "      <th>1</th>\n",
       "      <td>1995.0</td>\n",
       "      <td>1995-07-21</td>\n",
       "      <td>1.073</td>\n",
       "    </tr>\n",
       "    <tr>\n",
       "      <th>2</th>\n",
       "      <td>1995.0</td>\n",
       "      <td>1995-07-22</td>\n",
       "      <td>1.073</td>\n",
       "    </tr>\n",
       "    <tr>\n",
       "      <th>3</th>\n",
       "      <td>1995.0</td>\n",
       "      <td>1995-07-23</td>\n",
       "      <td>1.073</td>\n",
       "    </tr>\n",
       "    <tr>\n",
       "      <th>4</th>\n",
       "      <td>1995.0</td>\n",
       "      <td>1995-07-24</td>\n",
       "      <td>1.000</td>\n",
       "    </tr>\n",
       "    <tr>\n",
       "      <th>5</th>\n",
       "      <td>1995.0</td>\n",
       "      <td>1995-07-25</td>\n",
       "      <td>0.990</td>\n",
       "    </tr>\n",
       "    <tr>\n",
       "      <th>6</th>\n",
       "      <td>1995.0</td>\n",
       "      <td>1995-07-26</td>\n",
       "      <td>0.500</td>\n",
       "    </tr>\n",
       "    <tr>\n",
       "      <th>7</th>\n",
       "      <td>1995.0</td>\n",
       "      <td>1995-07-27</td>\n",
       "      <td>0.500</td>\n",
       "    </tr>\n",
       "    <tr>\n",
       "      <th>8</th>\n",
       "      <td>1995.0</td>\n",
       "      <td>1995-07-28</td>\n",
       "      <td>0.000</td>\n",
       "    </tr>\n",
       "    <tr>\n",
       "      <th>9</th>\n",
       "      <td>1995.0</td>\n",
       "      <td>1995-07-29</td>\n",
       "      <td>1.000</td>\n",
       "    </tr>\n",
       "  </tbody>\n",
       "</table>\n",
       "</div>"
      ],
      "text/plain": [
       "      Año       Fecha  Precio\n",
       "0  1995.0  1995-07-20     NaN\n",
       "1  1995.0  1995-07-21   1.073\n",
       "2  1995.0  1995-07-22   1.073\n",
       "3  1995.0  1995-07-23   1.073\n",
       "4  1995.0  1995-07-24   1.000\n",
       "5  1995.0  1995-07-25   0.990\n",
       "6  1995.0  1995-07-26   0.500\n",
       "7  1995.0  1995-07-27   0.500\n",
       "8  1995.0  1995-07-28   0.000\n",
       "9  1995.0  1995-07-29   1.000"
      ]
     },
     "execution_count": 42,
     "metadata": {},
     "output_type": "execute_result"
    }
   ],
   "source": [
    "dfBolsa = df.copy()\n",
    "dfBolsa['ano'] = [a.year for a in pd.to_datetime(df['Fecha'])]\n",
    "dfBolsa = pd.merge(dfBolsa.groupby('ano')['Precio'].min(), dfBolsa, on=['ano'], how='inner')\n",
    "dfBolsa = dfBolsa.drop([\"Precio_x\", \"Hora\"], axis=1)\n",
    "dfBolsa.columns = [\"Año\", \"Fecha\", \"Precio\"]\n",
    "dfBolsa.head(10)"
   ]
  },
  {
   "cell_type": "markdown",
   "metadata": {},
   "source": [
    "**13.--** Haga una gráfica en que se muestre el precio promedio diario y el precio promedio mensual."
   ]
  },
  {
   "cell_type": "code",
   "execution_count": null,
   "metadata": {},
   "outputs": [],
   "source": []
  },
  {
   "cell_type": "markdown",
   "metadata": {},
   "source": [
    "---"
   ]
  }
 ],
 "metadata": {
  "anaconda-cloud": {},
  "kernel_info": {
   "name": "python3"
  },
  "kernelspec": {
   "display_name": "Python 3",
   "language": "python",
   "name": "python3"
  },
  "language_info": {
   "codemirror_mode": {
    "name": "ipython",
    "version": 3
   },
   "file_extension": ".py",
   "mimetype": "text/x-python",
   "name": "python",
   "nbconvert_exporter": "python",
   "pygments_lexer": "ipython3",
   "version": "3.7.3"
  },
  "nteract": {
   "version": "0.7.1"
  }
 },
 "nbformat": 4,
 "nbformat_minor": 2
}
